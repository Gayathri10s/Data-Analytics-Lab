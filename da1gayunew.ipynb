{
 "cells": [
  {
   "cell_type": "code",
   "execution_count": 2,
   "metadata": {},
   "outputs": [],
   "source": [
    "import pandas as pd\n",
    "import numpy as np\n",
    "from scipy import stats\n",
    "import matplotlib.pyplot as plt\n",
    "pd.read_csv(\"G:\\\\athlete1.csv\")\n",
    "dat=pd.read_csv(\"G:\\\\athlete1.csv\")\n",
    "df=pd.DataFrame(dat)"
   ]
  },
  {
   "cell_type": "code",
   "execution_count": 3,
   "metadata": {},
   "outputs": [
    {
     "name": "stdout",
     "output_type": "stream",
     "text": [
      "      ID                                   Name Sex   Age  Height  Weight  \\\n",
      "0      1                              A Dijiang   M  24.0   180.0    80.0   \n",
      "1      2                               A Lamusi   M  23.0   170.0    60.0   \n",
      "2      3                    Gunnar Nielsen Aaby   M  24.0     NaN     NaN   \n",
      "3      4                   Edgar Lindenau Aabye   M  34.0     NaN     NaN   \n",
      "4      5               Christine Jacoba Aaftink   F  21.0   185.0    82.0   \n",
      "5      5               Christine Jacoba Aaftink   F  21.0   185.0    82.0   \n",
      "6      5               Christine Jacoba Aaftink   F  25.0   185.0    82.0   \n",
      "7      5               Christine Jacoba Aaftink   F  25.0   185.0    82.0   \n",
      "8      5               Christine Jacoba Aaftink   F  27.0   185.0    82.0   \n",
      "9      5               Christine Jacoba Aaftink   F  27.0   185.0    82.0   \n",
      "10     6                        Per Knut Aaland   M  31.0   188.0    75.0   \n",
      "11     6                        Per Knut Aaland   M  31.0   188.0    75.0   \n",
      "12     6                        Per Knut Aaland   M  31.0   188.0    75.0   \n",
      "13     6                        Per Knut Aaland   M  31.0   188.0    75.0   \n",
      "14     6                        Per Knut Aaland   M  33.0   188.0    75.0   \n",
      "15     6                        Per Knut Aaland   M  33.0   188.0    75.0   \n",
      "16     6                        Per Knut Aaland   M  33.0   188.0    75.0   \n",
      "17     6                        Per Knut Aaland   M  33.0   188.0    75.0   \n",
      "18     7                           John Aalberg   M  31.0   183.0    72.0   \n",
      "19     7                           John Aalberg   M  31.0   183.0    72.0   \n",
      "20     7                           John Aalberg   M  31.0   183.0    72.0   \n",
      "21     7                           John Aalberg   M  31.0   183.0    72.0   \n",
      "22     7                           John Aalberg   M  33.0   183.0    72.0   \n",
      "23     7                           John Aalberg   M  33.0   183.0    72.0   \n",
      "24     7                           John Aalberg   M  33.0   183.0    72.0   \n",
      "25     7                           John Aalberg   M  33.0   183.0    72.0   \n",
      "26     8     Cornelia \"Cor\" Aalten (-Strannood)   F  18.0   168.0     NaN   \n",
      "27     8     Cornelia \"Cor\" Aalten (-Strannood)   F  18.0   168.0     NaN   \n",
      "28     9                       Antti Sami Aalto   M  26.0   186.0    96.0   \n",
      "29    10         Einar Ferdinand \"Einari\" Aalto   M  26.0     NaN     NaN   \n",
      "..   ...                                    ...  ..   ...     ...     ...   \n",
      "469  256            Abdihakim \"Abdi\" Abdirahman   M  35.0   178.0    61.0   \n",
      "470  257                               Ali Abdo   M  19.0   169.0    74.0   \n",
      "471  257                               Ali Abdo   M  23.0   169.0    74.0   \n",
      "472  257                               Ali Abdo   M  27.0   169.0    74.0   \n",
      "473  258                             Hamza Abdo   M  17.0     NaN     NaN   \n",
      "474  259                             Reema Abdo   F  21.0   173.0    59.0   \n",
      "475  259                             Reema Abdo   F  21.0   173.0    59.0   \n",
      "476  259                             Reema Abdo   F  21.0   173.0    59.0   \n",
      "477  260                     Ahmed Abdo Mustafa   M   NaN     NaN     NaN   \n",
      "478  261                    Nasrollah Abdollahi   M  24.0   183.0    75.0   \n",
      "479  262                Yhyacinthe Mewoli Abdon   M  26.0   176.0    60.0   \n",
      "480  263                          Hassane Abdou   M  23.0   185.0    67.0   \n",
      "481  264                           Justin Abdou   M  29.0   175.0    85.0   \n",
      "482  265  Moustafa Ahmed Ismail Abdou Ali Arfah   M  31.0     NaN     NaN   \n",
      "483  266                            Raouf Abdou   M  22.0   165.0    60.0   \n",
      "484  267                 Mohamed Abdou El-Souad   M  19.0   180.0    76.0   \n",
      "485  267                 Mohamed Abdou El-Souad   M  19.0   180.0    76.0   \n",
      "486  267                 Mohamed Abdou El-Souad   M  23.0   180.0    76.0   \n",
      "487  267                 Mohamed Abdou El-Souad   M  23.0   180.0    76.0   \n",
      "488  268                 Brahim Daoud Abdoulaye   M  25.0     NaN    71.0   \n",
      "489  269                    Fawziya Abdoulkarim   F  27.0   180.0    67.0   \n",
      "490  270                     Alaa El-Din Abdoun   M  23.0   188.0    78.0   \n",
      "491  271                      Ibrahim Abdrabbou   M  27.0     NaN     NaN   \n",
      "492  272                     Berik Abdrakhmanov   M  30.0   165.0    60.0   \n",
      "493  273                   Maizurah Abdul Rahim   F  17.0   147.0    50.0   \n",
      "494  274              Mehdi Fahim Abdul Al-Sada   M  24.0   184.0    70.0   \n",
      "495  275             Bashir Abdullah Abdul Aziz   M  22.0   180.0    73.0   \n",
      "496  276               Chairil Anwar Abdul Aziz   M  24.0   163.0    61.0   \n",
      "497  276               Chairil Anwar Abdul Aziz   M  28.0   163.0    61.0   \n",
      "498  277                     Shaimaa Abdul Aziz   F  19.0   160.0    53.0   \n",
      "\n",
      "               Team  NOC        Games  Year  Season            City  \\\n",
      "0             China  CHN  1992 Summer  1992  Summer       Barcelona   \n",
      "1             China  CHN  2012 Summer  2012  Summer          London   \n",
      "2           Denmark  DEN  1920 Summer  1920  Summer       Antwerpen   \n",
      "3    Denmark/Sweden  DEN  1900 Summer  1900  Summer           Paris   \n",
      "4       Netherlands  NED  1988 Winter  1988  Winter         Calgary   \n",
      "5       Netherlands  NED  1988 Winter  1988  Winter         Calgary   \n",
      "6       Netherlands  NED  1992 Winter  1992  Winter     Albertville   \n",
      "7       Netherlands  NED  1992 Winter  1992  Winter     Albertville   \n",
      "8       Netherlands  NED  1994 Winter  1994  Winter     Lillehammer   \n",
      "9       Netherlands  NED  1994 Winter  1994  Winter     Lillehammer   \n",
      "10    United States  USA  1992 Winter  1992  Winter     Albertville   \n",
      "11    United States  USA  1992 Winter  1992  Winter     Albertville   \n",
      "12    United States  USA  1992 Winter  1992  Winter     Albertville   \n",
      "13    United States  USA  1992 Winter  1992  Winter     Albertville   \n",
      "14    United States  USA  1994 Winter  1994  Winter     Lillehammer   \n",
      "15    United States  USA  1994 Winter  1994  Winter     Lillehammer   \n",
      "16    United States  USA  1994 Winter  1994  Winter     Lillehammer   \n",
      "17    United States  USA  1994 Winter  1994  Winter     Lillehammer   \n",
      "18    United States  USA  1992 Winter  1992  Winter     Albertville   \n",
      "19    United States  USA  1992 Winter  1992  Winter     Albertville   \n",
      "20    United States  USA  1992 Winter  1992  Winter     Albertville   \n",
      "21    United States  USA  1992 Winter  1992  Winter     Albertville   \n",
      "22    United States  USA  1994 Winter  1994  Winter     Lillehammer   \n",
      "23    United States  USA  1994 Winter  1994  Winter     Lillehammer   \n",
      "24    United States  USA  1994 Winter  1994  Winter     Lillehammer   \n",
      "25    United States  USA  1994 Winter  1994  Winter     Lillehammer   \n",
      "26      Netherlands  NED  1932 Summer  1932  Summer     Los Angeles   \n",
      "27      Netherlands  NED  1932 Summer  1932  Summer     Los Angeles   \n",
      "28          Finland  FIN  2002 Winter  2002  Winter  Salt Lake City   \n",
      "29          Finland  FIN  1952 Summer  1952  Summer        Helsinki   \n",
      "..              ...  ...          ...   ...     ...             ...   \n",
      "469   United States  USA  2012 Summer  2012  Summer          London   \n",
      "470       Australia  AUS  2000 Summer  2000  Summer          Sydney   \n",
      "471       Australia  AUS  2004 Summer  2004  Summer          Athina   \n",
      "472       Australia  AUS  2008 Summer  2008  Summer         Beijing   \n",
      "473       Palestine  PLE  2008 Summer  2008  Summer         Beijing   \n",
      "474          Canada  CAN  1984 Summer  1984  Summer     Los Angeles   \n",
      "475          Canada  CAN  1984 Summer  1984  Summer     Los Angeles   \n",
      "476          Canada  CAN  1984 Summer  1984  Summer     Los Angeles   \n",
      "477           Sudan  SUD  1972 Summer  1972  Summer          Munich   \n",
      "478            Iran  IRI  1976 Summer  1976  Summer        Montreal   \n",
      "479        Cameroon  CMR  2012 Summer  2012  Summer          London   \n",
      "480         Comoros  COM  1996 Summer  1996  Summer         Atlanta   \n",
      "481          Canada  CAN  2000 Summer  2000  Summer          Sydney   \n",
      "482           Egypt  EGY  1984 Summer  1984  Summer     Los Angeles   \n",
      "483           Egypt  EGY  2004 Summer  2004  Summer          Athina   \n",
      "484           Egypt  EGY  1988 Summer  1988  Summer           Seoul   \n",
      "485           Egypt  EGY  1988 Summer  1988  Summer           Seoul   \n",
      "486           Egypt  EGY  1992 Summer  1992  Summer       Barcelona   \n",
      "487           Egypt  EGY  1992 Summer  1992  Summer       Barcelona   \n",
      "488            Chad  CHA  1996 Summer  1996  Summer         Atlanta   \n",
      "489        Cameroon  CMR  2016 Summer  2016  Summer  Rio de Janeiro   \n",
      "490           Egypt  EGY  1988 Summer  1988  Summer           Seoul   \n",
      "491           Egypt  EGY  1952 Summer  1952  Summer        Helsinki   \n",
      "492      Kazakhstan  KAZ  2016 Summer  2016  Summer  Rio de Janeiro   \n",
      "493          Brunei  BRU  2016 Summer  2016  Summer  Rio de Janeiro   \n",
      "494            Iraq  IRQ  1980 Summer  1980  Summer          Moskva   \n",
      "495          Kuwait  KUW  2000 Summer  2000  Summer          Sydney   \n",
      "496        Malaysia  MAS  1996 Summer  1996  Summer         Atlanta   \n",
      "497        Malaysia  MAS  2000 Summer  2000  Summer          Sydney   \n",
      "498           Egypt  EGY  2000 Summer  2000  Summer          Sydney   \n",
      "\n",
      "                    Sport                                              Event  \\\n",
      "0              Basketball                        Basketball Men's Basketball   \n",
      "1                    Judo                       Judo Men's Extra-Lightweight   \n",
      "2                Football                            Football Men's Football   \n",
      "3              Tug-Of-War                        Tug-Of-War Men's Tug-Of-War   \n",
      "4           Speed Skating                   Speed Skating Women's 500 metres   \n",
      "5           Speed Skating                 Speed Skating Women's 1,000 metres   \n",
      "6           Speed Skating                   Speed Skating Women's 500 metres   \n",
      "7           Speed Skating                 Speed Skating Women's 1,000 metres   \n",
      "8           Speed Skating                   Speed Skating Women's 500 metres   \n",
      "9           Speed Skating                 Speed Skating Women's 1,000 metres   \n",
      "10   Cross Country Skiing           Cross Country Skiing Men's 10 kilometres   \n",
      "11   Cross Country Skiing           Cross Country Skiing Men's 50 kilometres   \n",
      "12   Cross Country Skiing  Cross Country Skiing Men's 10/15 kilometres Pu...   \n",
      "13   Cross Country Skiing  Cross Country Skiing Men's 4 x 10 kilometres R...   \n",
      "14   Cross Country Skiing           Cross Country Skiing Men's 10 kilometres   \n",
      "15   Cross Country Skiing           Cross Country Skiing Men's 30 kilometres   \n",
      "16   Cross Country Skiing  Cross Country Skiing Men's 10/15 kilometres Pu...   \n",
      "17   Cross Country Skiing  Cross Country Skiing Men's 4 x 10 kilometres R...   \n",
      "18   Cross Country Skiing           Cross Country Skiing Men's 10 kilometres   \n",
      "19   Cross Country Skiing           Cross Country Skiing Men's 50 kilometres   \n",
      "20   Cross Country Skiing  Cross Country Skiing Men's 10/15 kilometres Pu...   \n",
      "21   Cross Country Skiing  Cross Country Skiing Men's 4 x 10 kilometres R...   \n",
      "22   Cross Country Skiing           Cross Country Skiing Men's 10 kilometres   \n",
      "23   Cross Country Skiing           Cross Country Skiing Men's 30 kilometres   \n",
      "24   Cross Country Skiing  Cross Country Skiing Men's 10/15 kilometres Pu...   \n",
      "25   Cross Country Skiing  Cross Country Skiing Men's 4 x 10 kilometres R...   \n",
      "26              Athletics                       Athletics Women's 100 metres   \n",
      "27              Athletics             Athletics Women's 4 x 100 metres Relay   \n",
      "28             Ice Hockey                        Ice Hockey Men's Ice Hockey   \n",
      "29               Swimming                Swimming Men's 400 metres Freestyle   \n",
      "..                    ...                                                ...   \n",
      "469             Athletics                           Athletics Men's Marathon   \n",
      "470             Wrestling          Wrestling Men's Welterweight, Greco-Roman   \n",
      "471             Wrestling            Wrestling Men's Middleweight, Freestyle   \n",
      "472             Wrestling            Wrestling Men's Middleweight, Freestyle   \n",
      "473              Swimming                 Swimming Men's 50 metres Freestyle   \n",
      "474              Swimming             Swimming Women's 100 metres Backstroke   \n",
      "475              Swimming             Swimming Women's 200 metres Backstroke   \n",
      "476              Swimming       Swimming Women's 4 x 100 metres Medley Relay   \n",
      "477              Football                            Football Men's Football   \n",
      "478              Football                            Football Men's Football   \n",
      "479                Boxing                           Boxing Men's Lightweight   \n",
      "480             Athletics                         Athletics Men's 400 metres   \n",
      "481             Wrestling       Wrestling Men's Light-Heavyweight, Freestyle   \n",
      "482              Football                            Football Men's Football   \n",
      "483     Modern Pentathlon                 Modern Pentathlon Men's Individual   \n",
      "484     Modern Pentathlon                 Modern Pentathlon Men's Individual   \n",
      "485     Modern Pentathlon                       Modern Pentathlon Men's Team   \n",
      "486     Modern Pentathlon                 Modern Pentathlon Men's Individual   \n",
      "487     Modern Pentathlon                       Modern Pentathlon Men's Team   \n",
      "488             Athletics                         Athletics Men's 200 metres   \n",
      "489            Volleyball                      Volleyball Women's Volleyball   \n",
      "490            Basketball                        Basketball Men's Basketball   \n",
      "491                Boxing                          Boxing Men's Bantamweight   \n",
      "492                Boxing                           Boxing Men's Lightweight   \n",
      "493             Athletics                       Athletics Women's 200 metres   \n",
      "494             Athletics               Athletics Men's 4 x 400 metres Relay   \n",
      "495              Football                            Football Men's Football   \n",
      "496                Hockey                                Hockey Men's Hockey   \n",
      "497                Hockey                                Hockey Men's Hockey   \n",
      "498          Table Tennis                       Table Tennis Women's Singles   \n",
      "\n",
      "      Medal  \n",
      "0       NaN  \n",
      "1       NaN  \n",
      "2       NaN  \n",
      "3      Gold  \n",
      "4       NaN  \n",
      "5       NaN  \n",
      "6       NaN  \n",
      "7       NaN  \n",
      "8       NaN  \n",
      "9       NaN  \n",
      "10      NaN  \n",
      "11      NaN  \n",
      "12      NaN  \n",
      "13      NaN  \n",
      "14      NaN  \n",
      "15      NaN  \n",
      "16      NaN  \n",
      "17      NaN  \n",
      "18      NaN  \n",
      "19      NaN  \n",
      "20      NaN  \n",
      "21      NaN  \n",
      "22      NaN  \n",
      "23      NaN  \n",
      "24      NaN  \n",
      "25      NaN  \n",
      "26      NaN  \n",
      "27      NaN  \n",
      "28      NaN  \n",
      "29      NaN  \n",
      "..      ...  \n",
      "469     NaN  \n",
      "470     NaN  \n",
      "471     NaN  \n",
      "472     NaN  \n",
      "473     NaN  \n",
      "474     NaN  \n",
      "475     NaN  \n",
      "476  Bronze  \n",
      "477     NaN  \n",
      "478     NaN  \n",
      "479     NaN  \n",
      "480     NaN  \n",
      "481     NaN  \n",
      "482     NaN  \n",
      "483     NaN  \n",
      "484     NaN  \n",
      "485     NaN  \n",
      "486     NaN  \n",
      "487     NaN  \n",
      "488     NaN  \n",
      "489     NaN  \n",
      "490     NaN  \n",
      "491     NaN  \n",
      "492     NaN  \n",
      "493     NaN  \n",
      "494     NaN  \n",
      "495     NaN  \n",
      "496     NaN  \n",
      "497     NaN  \n",
      "498     NaN  \n",
      "\n",
      "[499 rows x 15 columns]\n"
     ]
    }
   ],
   "source": [
    "print(df)"
   ]
  },
  {
   "cell_type": "code",
   "execution_count": 4,
   "metadata": {},
   "outputs": [
    {
     "name": "stdout",
     "output_type": "stream",
     "text": [
      "<class 'pandas.core.frame.DataFrame'>\n",
      "RangeIndex: 499 entries, 0 to 498\n",
      "Data columns (total 15 columns):\n",
      "ID        499 non-null int64\n",
      "Name      499 non-null object\n",
      "Sex       499 non-null object\n",
      "Age       460 non-null float64\n",
      "Height    355 non-null float64\n",
      "Weight    358 non-null float64\n",
      "Team      499 non-null object\n",
      "NOC       499 non-null object\n",
      "Games     499 non-null object\n",
      "Year      499 non-null int64\n",
      "Season    499 non-null object\n",
      "City      499 non-null object\n",
      "Sport     499 non-null object\n",
      "Event     499 non-null object\n",
      "Medal     62 non-null object\n",
      "dtypes: float64(3), int64(2), object(10)\n",
      "memory usage: 58.6+ KB\n"
     ]
    }
   ],
   "source": [
    "df.info()"
   ]
  },
  {
   "cell_type": "code",
   "execution_count": 5,
   "metadata": {},
   "outputs": [
    {
     "name": "stdout",
     "output_type": "stream",
     "text": [
      "<class 'pandas.core.frame.DataFrame'>\n",
      "RangeIndex: 499 entries, 0 to 498\n",
      "Data columns (total 15 columns):\n",
      "ID        499 non-null int64\n",
      "Name      499 non-null object\n",
      "Sex       499 non-null object\n",
      "Age       460 non-null float64\n",
      "Height    499 non-null float64\n",
      "Weight    499 non-null float64\n",
      "Team      499 non-null object\n",
      "NOC       499 non-null object\n",
      "Games     499 non-null object\n",
      "Year      499 non-null int64\n",
      "Season    499 non-null object\n",
      "City      499 non-null object\n",
      "Sport     499 non-null object\n",
      "Event     499 non-null object\n",
      "Medal     62 non-null object\n",
      "dtypes: float64(3), int64(2), object(10)\n",
      "memory usage: 58.6+ KB\n"
     ]
    }
   ],
   "source": [
    "df['Height']=df['Height'].fillna(df['Height'].mean())\n",
    "df['Weight']=df['Weight'].fillna(df['Weight'].mean())\n",
    "df.info()"
   ]
  },
  {
   "cell_type": "code",
   "execution_count": 6,
   "metadata": {},
   "outputs": [
    {
     "data": {
      "text/html": [
       "<div>\n",
       "<style scoped>\n",
       "    .dataframe tbody tr th:only-of-type {\n",
       "        vertical-align: middle;\n",
       "    }\n",
       "\n",
       "    .dataframe tbody tr th {\n",
       "        vertical-align: top;\n",
       "    }\n",
       "\n",
       "    .dataframe thead th {\n",
       "        text-align: right;\n",
       "    }\n",
       "</style>\n",
       "<table border=\"1\" class=\"dataframe\">\n",
       "  <thead>\n",
       "    <tr style=\"text-align: right;\">\n",
       "      <th></th>\n",
       "      <th>ID</th>\n",
       "      <th>Age</th>\n",
       "      <th>Height</th>\n",
       "      <th>Weight</th>\n",
       "      <th>Year</th>\n",
       "    </tr>\n",
       "  </thead>\n",
       "  <tbody>\n",
       "    <tr>\n",
       "      <th>count</th>\n",
       "      <td>499.00000</td>\n",
       "      <td>460.000000</td>\n",
       "      <td>499.000000</td>\n",
       "      <td>499.000000</td>\n",
       "      <td>499.000000</td>\n",
       "    </tr>\n",
       "    <tr>\n",
       "      <th>mean</th>\n",
       "      <td>128.03006</td>\n",
       "      <td>26.252174</td>\n",
       "      <td>176.918310</td>\n",
       "      <td>73.361732</td>\n",
       "      <td>1981.647295</td>\n",
       "    </tr>\n",
       "    <tr>\n",
       "      <th>std</th>\n",
       "      <td>85.99606</td>\n",
       "      <td>6.011381</td>\n",
       "      <td>8.191316</td>\n",
       "      <td>11.425585</td>\n",
       "      <td>28.210693</td>\n",
       "    </tr>\n",
       "    <tr>\n",
       "      <th>min</th>\n",
       "      <td>1.00000</td>\n",
       "      <td>15.000000</td>\n",
       "      <td>147.000000</td>\n",
       "      <td>43.000000</td>\n",
       "      <td>1900.000000</td>\n",
       "    </tr>\n",
       "    <tr>\n",
       "      <th>25%</th>\n",
       "      <td>45.50000</td>\n",
       "      <td>22.000000</td>\n",
       "      <td>173.500000</td>\n",
       "      <td>65.000000</td>\n",
       "      <td>1960.000000</td>\n",
       "    </tr>\n",
       "    <tr>\n",
       "      <th>50%</th>\n",
       "      <td>123.00000</td>\n",
       "      <td>25.000000</td>\n",
       "      <td>176.918310</td>\n",
       "      <td>73.361732</td>\n",
       "      <td>1992.000000</td>\n",
       "    </tr>\n",
       "    <tr>\n",
       "      <th>75%</th>\n",
       "      <td>207.00000</td>\n",
       "      <td>30.000000</td>\n",
       "      <td>180.000000</td>\n",
       "      <td>78.000000</td>\n",
       "      <td>2004.000000</td>\n",
       "    </tr>\n",
       "    <tr>\n",
       "      <th>max</th>\n",
       "      <td>277.00000</td>\n",
       "      <td>57.000000</td>\n",
       "      <td>207.000000</td>\n",
       "      <td>130.000000</td>\n",
       "      <td>2016.000000</td>\n",
       "    </tr>\n",
       "  </tbody>\n",
       "</table>\n",
       "</div>"
      ],
      "text/plain": [
       "              ID         Age      Height      Weight         Year\n",
       "count  499.00000  460.000000  499.000000  499.000000   499.000000\n",
       "mean   128.03006   26.252174  176.918310   73.361732  1981.647295\n",
       "std     85.99606    6.011381    8.191316   11.425585    28.210693\n",
       "min      1.00000   15.000000  147.000000   43.000000  1900.000000\n",
       "25%     45.50000   22.000000  173.500000   65.000000  1960.000000\n",
       "50%    123.00000   25.000000  176.918310   73.361732  1992.000000\n",
       "75%    207.00000   30.000000  180.000000   78.000000  2004.000000\n",
       "max    277.00000   57.000000  207.000000  130.000000  2016.000000"
      ]
     },
     "execution_count": 6,
     "metadata": {},
     "output_type": "execute_result"
    }
   ],
   "source": [
    "df.describe()"
   ]
  },
  {
   "cell_type": "code",
   "execution_count": 7,
   "metadata": {},
   "outputs": [
    {
     "data": {
      "text/plain": [
       "ID         128.030060\n",
       "Age         26.252174\n",
       "Height     176.918310\n",
       "Weight      73.361732\n",
       "Year      1981.647295\n",
       "dtype: float64"
      ]
     },
     "execution_count": 7,
     "metadata": {},
     "output_type": "execute_result"
    }
   ],
   "source": [
    "df.mean()"
   ]
  },
  {
   "cell_type": "code",
   "execution_count": 8,
   "metadata": {},
   "outputs": [
    {
     "data": {
      "text/plain": [
       "ID         123.000000\n",
       "Age         25.000000\n",
       "Height     176.918310\n",
       "Weight      73.361732\n",
       "Year      1992.000000\n",
       "dtype: float64"
      ]
     },
     "execution_count": 8,
     "metadata": {},
     "output_type": "execute_result"
    }
   ],
   "source": [
    "df.median()"
   ]
  },
  {
   "cell_type": "code",
   "execution_count": 9,
   "metadata": {},
   "outputs": [
    {
     "data": {
      "text/html": [
       "<div>\n",
       "<style scoped>\n",
       "    .dataframe tbody tr th:only-of-type {\n",
       "        vertical-align: middle;\n",
       "    }\n",
       "\n",
       "    .dataframe tbody tr th {\n",
       "        vertical-align: top;\n",
       "    }\n",
       "\n",
       "    .dataframe thead th {\n",
       "        text-align: right;\n",
       "    }\n",
       "</style>\n",
       "<table border=\"1\" class=\"dataframe\">\n",
       "  <thead>\n",
       "    <tr style=\"text-align: right;\">\n",
       "      <th></th>\n",
       "      <th>ID</th>\n",
       "      <th>Name</th>\n",
       "      <th>Sex</th>\n",
       "      <th>Age</th>\n",
       "      <th>Height</th>\n",
       "      <th>Weight</th>\n",
       "      <th>Team</th>\n",
       "      <th>NOC</th>\n",
       "      <th>Games</th>\n",
       "      <th>Year</th>\n",
       "      <th>Season</th>\n",
       "      <th>City</th>\n",
       "      <th>Sport</th>\n",
       "      <th>Event</th>\n",
       "      <th>Medal</th>\n",
       "    </tr>\n",
       "  </thead>\n",
       "  <tbody>\n",
       "    <tr>\n",
       "      <th>0</th>\n",
       "      <td>20</td>\n",
       "      <td>Kjetil Andr Aamodt</td>\n",
       "      <td>M</td>\n",
       "      <td>22.0</td>\n",
       "      <td>176.91831</td>\n",
       "      <td>73.361732</td>\n",
       "      <td>Egypt</td>\n",
       "      <td>EGY</td>\n",
       "      <td>2000 Summer</td>\n",
       "      <td>2000</td>\n",
       "      <td>Summer</td>\n",
       "      <td>London</td>\n",
       "      <td>Athletics</td>\n",
       "      <td>Football Men's Football</td>\n",
       "      <td>Gold</td>\n",
       "    </tr>\n",
       "  </tbody>\n",
       "</table>\n",
       "</div>"
      ],
      "text/plain": [
       "   ID                Name Sex   Age     Height     Weight   Team  NOC  \\\n",
       "0  20  Kjetil Andr Aamodt   M  22.0  176.91831  73.361732  Egypt  EGY   \n",
       "\n",
       "         Games  Year  Season    City      Sport                    Event Medal  \n",
       "0  2000 Summer  2000  Summer  London  Athletics  Football Men's Football  Gold  "
      ]
     },
     "execution_count": 9,
     "metadata": {},
     "output_type": "execute_result"
    }
   ],
   "source": [
    "df.mode()"
   ]
  },
  {
   "cell_type": "code",
   "execution_count": 10,
   "metadata": {},
   "outputs": [
    {
     "name": "stdout",
     "output_type": "stream",
     "text": [
      "gmean is 176.72850608517209\n"
     ]
    }
   ],
   "source": [
    "gmean=stats.gmean(df['Height'])\n",
    "print('gmean is',gmean)"
   ]
  },
  {
   "cell_type": "code",
   "execution_count": 11,
   "metadata": {},
   "outputs": [
    {
     "name": "stdout",
     "output_type": "stream",
     "text": [
      "hmean is 176.53780575993693\n"
     ]
    }
   ],
   "source": [
    "hmean=stats.hmean(df['Height'])\n",
    "print('hmean is',hmean)"
   ]
  },
  {
   "cell_type": "code",
   "execution_count": 12,
   "metadata": {},
   "outputs": [
    {
     "data": {
      "text/plain": [
       "(array([  2.,   7.,  20.,  76., 228.,  66.,  60.,  30.,   8.,   2.]),\n",
       " array([147., 153., 159., 165., 171., 177., 183., 189., 195., 201., 207.]),\n",
       " <a list of 10 Patch objects>)"
      ]
     },
     "execution_count": 12,
     "metadata": {},
     "output_type": "execute_result"
    },
    {
     "data": {
      "image/png": "[encoded data removed]",
      "text/plain": [
       "<Figure size 432x288 with 1 Axes>"
      ]
     },
     "metadata": {
      "needs_background": "light"
     },
     "output_type": "display_data"
    }
   ],
   "source": [
    "plt.hist(df['Height'])"
   ]
  },
  {
   "cell_type": "code",
   "execution_count": 13,
   "metadata": {},
   "outputs": [
    {
     "data": {
      "text/plain": [
       "[80.0,\n",
       " 60.0,\n",
       " 73.36173184357541,\n",
       " 82.0,\n",
       " 75.0,\n",
       " 72.0,\n",
       " 96.0,\n",
       " 76.5,\n",
       " 70.0,\n",
       " 55.5,\n",
       " 65.0,\n",
       " 85.0,\n",
       " 64.0,\n",
       " 130.0,\n",
       " 125.0,\n",
       " 89.0,\n",
       " 77.0,\n",
       " 76.0,\n",
       " 98.0,\n",
       " 78.0,\n",
       " 73.0,\n",
       " 93.0,\n",
       " 74.0,\n",
       " 106.0,\n",
       " 58.0,\n",
       " 66.0,\n",
       " 71.0,\n",
       " 90.0,\n",
       " 87.0,\n",
       " 49.0,\n",
       " 48.0,\n",
       " 83.0,\n",
       " 86.0,\n",
       " 55.0,\n",
       " 67.0,\n",
       " 97.0,\n",
       " 105.0,\n",
       " 43.0,\n",
       " 79.0,\n",
       " 51.0,\n",
       " 88.0,\n",
       " 62.0,\n",
       " 53.0,\n",
       " 104.0,\n",
       " 57.0,\n",
       " 63.0,\n",
       " 52.0,\n",
       " 91.0,\n",
       " 94.0,\n",
       " 56.0,\n",
       " 68.0,\n",
       " 61.0,\n",
       " 69.0,\n",
       " 46.0,\n",
       " 100.0,\n",
       " 81.0,\n",
       " 92.0,\n",
       " 120.0,\n",
       " 95.0,\n",
       " 59.0,\n",
       " 50.0]"
      ]
     },
     "execution_count": 13,
     "metadata": {},
     "output_type": "execute_result"
    }
   ],
   "source": [
    "freq={}\n",
    "for item in df['Weight']: \n",
    "        if (item in freq): \n",
    "            freq[item] += 1\n",
    "        else: \n",
    "            freq[item] = 1\n",
    "key=[x for x in freq.keys()]\n",
    "key"
   ]
  },
  {
   "cell_type": "code",
   "execution_count": 14,
   "metadata": {},
   "outputs": [
    {
     "data": {
      "text/plain": [
       "[16,\n",
       " 24,\n",
       " 141,\n",
       " 13,\n",
       " 19,\n",
       " 13,\n",
       " 5,\n",
       " 1,\n",
       " 12,\n",
       " 2,\n",
       " 10,\n",
       " 26,\n",
       " 30,\n",
       " 1,\n",
       " 1,\n",
       " 3,\n",
       " 6,\n",
       " 11,\n",
       " 4,\n",
       " 8,\n",
       " 10,\n",
       " 5,\n",
       " 10,\n",
       " 2,\n",
       " 5,\n",
       " 4,\n",
       " 4,\n",
       " 7,\n",
       " 4,\n",
       " 2,\n",
       " 5,\n",
       " 6,\n",
       " 3,\n",
       " 2,\n",
       " 8,\n",
       " 6,\n",
       " 1,\n",
       " 1,\n",
       " 2,\n",
       " 2,\n",
       " 2,\n",
       " 1,\n",
       " 2,\n",
       " 1,\n",
       " 11,\n",
       " 9,\n",
       " 2,\n",
       " 1,\n",
       " 3,\n",
       " 5,\n",
       " 4,\n",
       " 7,\n",
       " 2,\n",
       " 2,\n",
       " 1,\n",
       " 3,\n",
       " 1,\n",
       " 1,\n",
       " 2,\n",
       " 3,\n",
       " 1]"
      ]
     },
     "execution_count": 14,
     "metadata": {},
     "output_type": "execute_result"
    }
   ],
   "source": [
    "value=[freq[x] for x in freq.keys()]\n",
    "value"
   ]
  },
  {
   "cell_type": "code",
   "execution_count": null,
   "metadata": {},
   "outputs": [],
   "source": []
  },
  {
   "cell_type": "code",
   "execution_count": 15,
   "metadata": {},
   "outputs": [
    {
     "data": {
      "image/png": "[encoded data removed]",
      "text/plain": [
       "<Figure size 432x288 with 1 Axes>"
      ]
     },
     "metadata": {},
     "output_type": "display_data"
    }
   ],
   "source": [
    "plt.pie(value,labels=key,autopct='%.1f%%',startangle=90)\n",
    "plt.show()"
   ]
  },
  {
   "cell_type": "code",
   "execution_count": 16,
   "metadata": {},
   "outputs": [
    {
     "data": {
      "image/png": "[encoded data removed]",
      "text/plain": [
       "<Figure size 432x288 with 1 Axes>"
      ]
     },
     "metadata": {
      "needs_background": "light"
     },
     "output_type": "display_data"
    }
   ],
   "source": [
    "plt.bar(key,value)\n",
    "plt.show()"
   ]
  },
  {
   "cell_type": "code",
   "execution_count": 18,
   "metadata": {},
   "outputs": [
    {
     "data": {
      "text/plain": [
       "<matplotlib.axes._subplots.AxesSubplot at 0x2541f65f5c0>"
      ]
     },
     "execution_count": 18,
     "metadata": {},
     "output_type": "execute_result"
    },
    {
     "data": {
      "image/png": "[encoded data removed]",
      "text/plain": [
       "<Figure size 432x288 with 1 Axes>"
      ]
     },
     "metadata": {
      "needs_background": "light"
     },
     "output_type": "display_data"
    }
   ],
   "source": [
    "df = pd.DataFrame(np.random.rand(10, 5), columns=['1', '2', '3', '4', '5'])\n",
    "df.plot.box(grid='True')"
   ]
  },
  {
   "cell_type": "code",
   "execution_count": 19,
   "metadata": {},
   "outputs": [
    {
     "data": {
      "text/plain": [
       "<matplotlib.axes._subplots.AxesSubplot at 0x2541f6f09b0>"
      ]
     },
     "execution_count": 19,
     "metadata": {},
     "output_type": "execute_result"
    },
    {
     "data": {
      "image/png": "[encoded data removed]",
      "text/plain": [
       "<Figure size 432x288 with 1 Axes>"
      ]
     },
     "metadata": {
      "needs_background": "light"
     },
     "output_type": "display_data"
    }
   ],
   "source": [
    "df = pd.DataFrame(np.random.rand(10, 5), columns=['1', '2', '3', '4', '5'])\n",
    "df.plot.box(grid='False')"
   ]
  },
  {
   "cell_type": "code",
   "execution_count": null,
   "metadata": {},
   "outputs": [],
   "source": []
  }
 ],
 "metadata": {
  "kernelspec": {
   "display_name": "Python 3",
   "language": "python",
   "name": "python3"
  },
  "language_info": {
   "codemirror_mode": {
    "name": "ipython",
    "version": 3
   },
   "file_extension": ".py",
   "mimetype": "text/x-python",
   "name": "python",
   "nbconvert_exporter": "python",
   "pygments_lexer": "ipython3",
   "version": "3.7.1"
  }
 },
 "nbformat": 4,
 "nbformat_minor": 2
}
