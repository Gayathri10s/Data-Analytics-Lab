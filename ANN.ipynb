{
  "nbformat": 4,
  "nbformat_minor": 0,
  "metadata": {
    "colab": {
      "name": "ANN.ipynb",
      "version": "0.3.2",
      "provenance": [],
      "collapsed_sections": []
    },
    "kernelspec": {
      "name": "python3",
      "display_name": "Python 3"
    }
  },
  "cells": [
    {
      "cell_type": "markdown",
      "metadata": {
        "id": "ViEDqudGaRbN",
        "colab_type": "text"
      },
      "source": [
        "#Simple ANN using keras\n",
        "\n",
        "*   Sequential creates a sequence of layers\n",
        "*   Dense creates a fully connected network\n",
        "\n"
      ]
    },
    {
      "cell_type": "code",
      "metadata": {
        "id": "18SppJESY164",
        "colab_type": "code",
        "outputId": "645a062d-acca-48b7-815e-f5cbb5e1c4b1",
        "colab": {
          "base_uri": "https://localhost:8080/",
          "height": 34
        }
      },
      "source": [
        "from keras.models import Sequential\n",
        "from keras.layers import Dense\n",
        "import numpy as np"
      ],
      "execution_count": 1,
      "outputs": [
        {
          "output_type": "stream",
          "text": [
            "Using TensorFlow backend.\n"
          ],
          "name": "stderr"
        }
      ]
    },
    {
      "cell_type": "code",
      "metadata": {
        "id": "htL0FMcibjl1",
        "colab_type": "code",
        "colab": {}
      },
      "source": [
        "from sklearn.datasets import load_iris\n",
        "from sklearn.preprocessing import StandardScaler,OneHotEncoder\n",
        "from sklearn.model_selection import train_test_split"
      ],
      "execution_count": 0,
      "outputs": []
    },
    {
      "cell_type": "code",
      "metadata": {
        "id": "h3JVDDX8bsYx",
        "colab_type": "code",
        "colab": {}
      },
      "source": [
        "iris = load_iris()#loading the iris dataset"
      ],
      "execution_count": 0,
      "outputs": []
    },
    {
      "cell_type": "code",
      "metadata": {
        "id": "xeTriLTObwgn",
        "colab_type": "code",
        "colab": {}
      },
      "source": [
        "print(iris.feature_names)#attributes\n",
        "print(iris.target_names)#class labels\n",
        "print(iris.DESCR)#description of dataset\n",
        "print(iris.data)#print the dataset"
      ],
      "execution_count": 0,
      "outputs": []
    },
    {
      "cell_type": "code",
      "metadata": {
        "id": "HM0EDqI7dBy-",
        "colab_type": "code",
        "colab": {}
      },
      "source": [
        "input_data = iris.data#assign the iris dataset"
      ],
      "execution_count": 0,
      "outputs": []
    },
    {
      "cell_type": "code",
      "metadata": {
        "id": "qA4eQ2z4cPW8",
        "colab_type": "code",
        "colab": {
          "base_uri": "https://localhost:8080/",
          "height": 136
        },
        "outputId": "0ce7c76c-438d-4023-c56b-abe9712a56ec"
      },
      "source": [
        "target_class = iris.target#assign class label to target_class\n",
        "iris['target']\n"
      ],
      "execution_count": 26,
      "outputs": [
        {
          "output_type": "execute_result",
          "data": {
            "text/plain": [
              "array([0, 0, 0, 0, 0, 0, 0, 0, 0, 0, 0, 0, 0, 0, 0, 0, 0, 0, 0, 0, 0, 0,\n",
              "       0, 0, 0, 0, 0, 0, 0, 0, 0, 0, 0, 0, 0, 0, 0, 0, 0, 0, 0, 0, 0, 0,\n",
              "       0, 0, 0, 0, 0, 0, 1, 1, 1, 1, 1, 1, 1, 1, 1, 1, 1, 1, 1, 1, 1, 1,\n",
              "       1, 1, 1, 1, 1, 1, 1, 1, 1, 1, 1, 1, 1, 1, 1, 1, 1, 1, 1, 1, 1, 1,\n",
              "       1, 1, 1, 1, 1, 1, 1, 1, 1, 1, 1, 1, 2, 2, 2, 2, 2, 2, 2, 2, 2, 2,\n",
              "       2, 2, 2, 2, 2, 2, 2, 2, 2, 2, 2, 2, 2, 2, 2, 2, 2, 2, 2, 2, 2, 2,\n",
              "       2, 2, 2, 2, 2, 2, 2, 2, 2, 2, 2, 2, 2, 2, 2, 2, 2, 2])"
            ]
          },
          "metadata": {
            "tags": []
          },
          "execution_count": 26
        }
      ]
    },
    {
      "cell_type": "markdown",
      "metadata": {
        "id": "YdMc0Va9ebEr",
        "colab_type": "text"
      },
      "source": [
        "###Use z-score normalization to convert data with mean 0 and variance 1"
      ]
    },
    {
      "cell_type": "code",
      "metadata": {
        "id": "x57GIpKJdSS-",
        "colab_type": "code",
        "colab": {}
      },
      "source": [
        "scaler = StandardScaler()#z-score normalizer\n",
        "input_scaled = scaler.fit_transform(input_data)#fit to data and then transform it"
      ],
      "execution_count": 0,
      "outputs": []
    },
    {
      "cell_type": "code",
      "metadata": {
        "id": "fpKTaV2lmJ61",
        "colab_type": "code",
        "outputId": "73ac67f5-4b05-4763-c084-dcbce07d523f",
        "colab": {
          "base_uri": "https://localhost:8080/",
          "height": 105
        }
      },
      "source": [
        "# One hot encoding\n",
        "#categorical variables are converted into a form that could be provided to ML algorithms to do a better job in prediction\n",
        "enc = OneHotEncoder()\n",
        "hot_target_class = enc.fit_transform(target_class[:, np.newaxis]).toarray()"
      ],
      "execution_count": 31,
      "outputs": [
        {
          "output_type": "stream",
          "text": [
            "/usr/local/lib/python3.6/dist-packages/sklearn/preprocessing/_encoders.py:415: FutureWarning: The handling of integer data will change in version 0.22. Currently, the categories are determined based on the range [0, max(values)], while in the future they will be determined based on the unique values.\n",
            "If you want the future behaviour and silence this warning, you can specify \"categories='auto'\".\n",
            "In case you used a LabelEncoder before this OneHotEncoder to convert the categories to integers, then you can now use the OneHotEncoder directly.\n",
            "  warnings.warn(msg, FutureWarning)\n"
          ],
          "name": "stderr"
        }
      ]
    },
    {
      "cell_type": "markdown",
      "metadata": {
        "id": "tq7XYLCaeUHl",
        "colab_type": "text"
      },
      "source": [
        "###Split into training and testing data"
      ]
    },
    {
      "cell_type": "code",
      "metadata": {
        "id": "KLRqJfAdeg4d",
        "colab_type": "code",
        "colab": {}
      },
      "source": [
        "#split into training and testing data\n",
        "x_train,x_test,y_train,y_test = train_test_split(input_scaled,hot_target_class,test_size=0.3)\n",
        "#x_train\n",
        "#x_test"
      ],
      "execution_count": 0,
      "outputs": []
    },
    {
      "cell_type": "markdown",
      "metadata": {
        "id": "AVY3C-jEgwYC",
        "colab_type": "text"
      },
      "source": [
        "###Create model"
      ]
    },
    {
      "cell_type": "code",
      "metadata": {
        "id": "csEvoq30ZZbB",
        "colab_type": "code",
        "outputId": "67f7d374-3a72-4067-9887-6a2376115833",
        "colab": {
          "base_uri": "https://localhost:8080/",
          "height": 88
        }
      },
      "source": [
        "#simplest form of neural network\n",
        "model = Sequential()"
      ],
      "execution_count": 10,
      "outputs": [
        {
          "output_type": "stream",
          "text": [
            "WARNING: Logging before flag parsing goes to stderr.\n",
            "W0820 05:21:45.834142 140248835467136 deprecation_wrapper.py:119] From /usr/local/lib/python3.6/dist-packages/keras/backend/tensorflow_backend.py:74: The name tf.get_default_graph is deprecated. Please use tf.compat.v1.get_default_graph instead.\n",
            "\n"
          ],
          "name": "stderr"
        }
      ]
    },
    {
      "cell_type": "markdown",
      "metadata": {
        "id": "SGe3Spzzaq7j",
        "colab_type": "text"
      },
      "source": [
        "###Can add any number of layers using model.add\n",
        "\n",
        "\n",
        "*   Compulsorily the first add function must have the parameter input_dim\n",
        "*   Default activation is linear function\n",
        "\n"
      ]
    },
    {
      "cell_type": "code",
      "metadata": {
        "id": "NHWkWPaPZfGP",
        "colab_type": "code",
        "outputId": "2f0c972a-3313-48c9-8bc5-27812dda58af",
        "colab": {
          "base_uri": "https://localhost:8080/",
          "height": 105
        }
      },
      "source": [
        "#Dense is fully connected layer and the most common type of layer used on multi-layer perceptron models\n",
        "#input_dim is number of attributes\n",
        "h1 = model.add(Dense(6,activation=\"relu\",input_dim=4))\n",
        "h2=model.add(Dense(5,activation=\"relu\"))\n",
        "h3=model.add(Dense(7,activation=\"relu\"))\n",
        "o = model.add(Dense(3,activation=\"softmax\"))\n",
        "\n"
      ],
      "execution_count": 11,
      "outputs": [
        {
          "output_type": "stream",
          "text": [
            "W0820 05:21:45.900610 140248835467136 deprecation_wrapper.py:119] From /usr/local/lib/python3.6/dist-packages/keras/backend/tensorflow_backend.py:517: The name tf.placeholder is deprecated. Please use tf.compat.v1.placeholder instead.\n",
            "\n",
            "W0820 05:21:45.915244 140248835467136 deprecation_wrapper.py:119] From /usr/local/lib/python3.6/dist-packages/keras/backend/tensorflow_backend.py:4138: The name tf.random_uniform is deprecated. Please use tf.random.uniform instead.\n",
            "\n"
          ],
          "name": "stderr"
        }
      ]
    },
    {
      "cell_type": "code",
      "metadata": {
        "id": "wopEmikabAz9",
        "colab_type": "code",
        "colab": {}
      },
      "source": [
        "###Compile model"
      ],
      "execution_count": 0,
      "outputs": []
    },
    {
      "cell_type": "code",
      "metadata": {
        "id": "EznBdyTqg4dj",
        "colab_type": "code",
        "outputId": "d8ed93ce-41c2-4125-cd5d-48bd264e9cbf",
        "colab": {
          "base_uri": "https://localhost:8080/",
          "height": 105
        }
      },
      "source": [
        "model.compile(loss=\"categorical_crossentropy\",optimizer=\"Adam\",metrics=['accuracy'])"
      ],
      "execution_count": 13,
      "outputs": [
        {
          "output_type": "stream",
          "text": [
            "W0820 05:21:46.008206 140248835467136 deprecation_wrapper.py:119] From /usr/local/lib/python3.6/dist-packages/keras/optimizers.py:790: The name tf.train.Optimizer is deprecated. Please use tf.compat.v1.train.Optimizer instead.\n",
            "\n",
            "W0820 05:21:46.051644 140248835467136 deprecation_wrapper.py:119] From /usr/local/lib/python3.6/dist-packages/keras/backend/tensorflow_backend.py:3295: The name tf.log is deprecated. Please use tf.math.log instead.\n",
            "\n"
          ],
          "name": "stderr"
        }
      ]
    },
    {
      "cell_type": "code",
      "metadata": {
        "id": "9_fOn5emhQnS",
        "colab_type": "code",
        "outputId": "ca3b218e-18b1-48a7-cee0-a9fb56b071a4",
        "colab": {
          "base_uri": "https://localhost:8080/",
          "height": 272
        }
      },
      "source": [
        "#summary\n",
        "model.summary()"
      ],
      "execution_count": 14,
      "outputs": [
        {
          "output_type": "stream",
          "text": [
            "_________________________________________________________________\n",
            "Layer (type)                 Output Shape              Param #   \n",
            "=================================================================\n",
            "dense_1 (Dense)              (None, 6)                 30        \n",
            "_________________________________________________________________\n",
            "dense_2 (Dense)              (None, 5)                 35        \n",
            "_________________________________________________________________\n",
            "dense_3 (Dense)              (None, 7)                 42        \n",
            "_________________________________________________________________\n",
            "dense_4 (Dense)              (None, 3)                 24        \n",
            "=================================================================\n",
            "Total params: 131\n",
            "Trainable params: 131\n",
            "Non-trainable params: 0\n",
            "_________________________________________________________________\n"
          ],
          "name": "stdout"
        }
      ]
    },
    {
      "cell_type": "markdown",
      "metadata": {
        "id": "LjOAs9liiLLt",
        "colab_type": "text"
      },
      "source": [
        "###Fit model\n",
        "\n",
        "*   Epoch - how many passes through the training dataset\n",
        "*   Batch - how many samples to consider before updating the weights\n",
        "\n"
      ]
    },
    {
      "cell_type": "code",
      "metadata": {
        "id": "Rgx38Bluifd2",
        "colab_type": "code",
        "outputId": "fd3f34dd-3e51-486e-bea5-05d8f446acc9",
        "colab": {
          "base_uri": "https://localhost:8080/",
          "height": 1000
        }
      },
      "source": [
        "#fitting the model\n",
        "model.fit(x_train,y_train,batch_size=10,epochs=50)"
      ],
      "execution_count": 15,
      "outputs": [
        {
          "output_type": "stream",
          "text": [
            "W0820 05:21:46.232970 140248835467136 deprecation.py:323] From /usr/local/lib/python3.6/dist-packages/tensorflow/python/ops/math_grad.py:1250: add_dispatch_support.<locals>.wrapper (from tensorflow.python.ops.array_ops) is deprecated and will be removed in a future version.\n",
            "Instructions for updating:\n",
            "Use tf.where in 2.0, which has the same broadcast rule as np.where\n",
            "W0820 05:21:46.300996 140248835467136 deprecation_wrapper.py:119] From /usr/local/lib/python3.6/dist-packages/keras/backend/tensorflow_backend.py:986: The name tf.assign_add is deprecated. Please use tf.compat.v1.assign_add instead.\n",
            "\n"
          ],
          "name": "stderr"
        },
        {
          "output_type": "stream",
          "text": [
            "Epoch 1/50\n",
            "105/105 [==============================] - 1s 8ms/step - loss: 1.2335 - acc: 0.3143\n",
            "Epoch 2/50\n",
            "105/105 [==============================] - 0s 195us/step - loss: 1.1895 - acc: 0.3048\n",
            "Epoch 3/50\n",
            "105/105 [==============================] - 0s 184us/step - loss: 1.1570 - acc: 0.2667\n",
            "Epoch 4/50\n",
            "105/105 [==============================] - 0s 190us/step - loss: 1.1320 - acc: 0.2952\n",
            "Epoch 5/50\n",
            "105/105 [==============================] - 0s 184us/step - loss: 1.1110 - acc: 0.3048\n",
            "Epoch 6/50\n",
            "105/105 [==============================] - 0s 177us/step - loss: 1.0939 - acc: 0.3238\n",
            "Epoch 7/50\n",
            "105/105 [==============================] - 0s 237us/step - loss: 1.0785 - acc: 0.3524\n",
            "Epoch 8/50\n",
            "105/105 [==============================] - 0s 175us/step - loss: 1.0566 - acc: 0.4286\n",
            "Epoch 9/50\n",
            "105/105 [==============================] - 0s 184us/step - loss: 1.0399 - acc: 0.4190\n",
            "Epoch 10/50\n",
            "105/105 [==============================] - 0s 191us/step - loss: 1.0198 - acc: 0.4667\n",
            "Epoch 11/50\n",
            "105/105 [==============================] - 0s 177us/step - loss: 0.9993 - acc: 0.5143\n",
            "Epoch 12/50\n",
            "105/105 [==============================] - 0s 194us/step - loss: 0.9783 - acc: 0.5333\n",
            "Epoch 13/50\n",
            "105/105 [==============================] - 0s 171us/step - loss: 0.9514 - acc: 0.5524\n",
            "Epoch 14/50\n",
            "105/105 [==============================] - 0s 171us/step - loss: 0.9263 - acc: 0.5619\n",
            "Epoch 15/50\n",
            "105/105 [==============================] - 0s 189us/step - loss: 0.9018 - acc: 0.5810\n",
            "Epoch 16/50\n",
            "105/105 [==============================] - 0s 222us/step - loss: 0.8768 - acc: 0.6286\n",
            "Epoch 17/50\n",
            "105/105 [==============================] - 0s 212us/step - loss: 0.8507 - acc: 0.6667\n",
            "Epoch 18/50\n",
            "105/105 [==============================] - 0s 236us/step - loss: 0.8260 - acc: 0.7333\n",
            "Epoch 19/50\n",
            "105/105 [==============================] - 0s 202us/step - loss: 0.7993 - acc: 0.7810\n",
            "Epoch 20/50\n",
            "105/105 [==============================] - 0s 206us/step - loss: 0.7739 - acc: 0.7810\n",
            "Epoch 21/50\n",
            "105/105 [==============================] - 0s 193us/step - loss: 0.7478 - acc: 0.7810\n",
            "Epoch 22/50\n",
            "105/105 [==============================] - 0s 181us/step - loss: 0.7187 - acc: 0.7810\n",
            "Epoch 23/50\n",
            "105/105 [==============================] - 0s 178us/step - loss: 0.6846 - acc: 0.8000\n",
            "Epoch 24/50\n",
            "105/105 [==============================] - 0s 184us/step - loss: 0.6470 - acc: 0.8190\n",
            "Epoch 25/50\n",
            "105/105 [==============================] - 0s 181us/step - loss: 0.6105 - acc: 0.8190\n",
            "Epoch 26/50\n",
            "105/105 [==============================] - 0s 170us/step - loss: 0.5744 - acc: 0.8190\n",
            "Epoch 27/50\n",
            "105/105 [==============================] - 0s 221us/step - loss: 0.5384 - acc: 0.8190\n",
            "Epoch 28/50\n",
            "105/105 [==============================] - 0s 170us/step - loss: 0.5063 - acc: 0.8190\n",
            "Epoch 29/50\n",
            "105/105 [==============================] - 0s 170us/step - loss: 0.4776 - acc: 0.8190\n",
            "Epoch 30/50\n",
            "105/105 [==============================] - 0s 178us/step - loss: 0.4506 - acc: 0.8286\n",
            "Epoch 31/50\n",
            "105/105 [==============================] - 0s 216us/step - loss: 0.4270 - acc: 0.8286\n",
            "Epoch 32/50\n",
            "105/105 [==============================] - 0s 194us/step - loss: 0.4052 - acc: 0.8381\n",
            "Epoch 33/50\n",
            "105/105 [==============================] - 0s 191us/step - loss: 0.3883 - acc: 0.8381\n",
            "Epoch 34/50\n",
            "105/105 [==============================] - 0s 197us/step - loss: 0.3705 - acc: 0.8381\n",
            "Epoch 35/50\n",
            "105/105 [==============================] - 0s 229us/step - loss: 0.3556 - acc: 0.8381\n",
            "Epoch 36/50\n",
            "105/105 [==============================] - 0s 238us/step - loss: 0.3414 - acc: 0.8381\n",
            "Epoch 37/50\n",
            "105/105 [==============================] - 0s 187us/step - loss: 0.3304 - acc: 0.8381\n",
            "Epoch 38/50\n",
            "105/105 [==============================] - 0s 189us/step - loss: 0.3179 - acc: 0.8381\n",
            "Epoch 39/50\n",
            "105/105 [==============================] - 0s 221us/step - loss: 0.3074 - acc: 0.8571\n",
            "Epoch 40/50\n",
            "105/105 [==============================] - 0s 189us/step - loss: 0.3003 - acc: 0.8667\n",
            "Epoch 41/50\n",
            "105/105 [==============================] - 0s 226us/step - loss: 0.2905 - acc: 0.8857\n",
            "Epoch 42/50\n",
            "105/105 [==============================] - 0s 214us/step - loss: 0.2809 - acc: 0.8952\n",
            "Epoch 43/50\n",
            "105/105 [==============================] - 0s 221us/step - loss: 0.2723 - acc: 0.8952\n",
            "Epoch 44/50\n",
            "105/105 [==============================] - 0s 185us/step - loss: 0.2640 - acc: 0.9048\n",
            "Epoch 45/50\n",
            "105/105 [==============================] - 0s 180us/step - loss: 0.2568 - acc: 0.9048\n",
            "Epoch 46/50\n",
            "105/105 [==============================] - 0s 225us/step - loss: 0.2511 - acc: 0.9048\n",
            "Epoch 47/50\n",
            "105/105 [==============================] - 0s 231us/step - loss: 0.2448 - acc: 0.9048\n",
            "Epoch 48/50\n",
            "105/105 [==============================] - 0s 185us/step - loss: 0.2389 - acc: 0.9143\n",
            "Epoch 49/50\n",
            "105/105 [==============================] - 0s 214us/step - loss: 0.2348 - acc: 0.9048\n",
            "Epoch 50/50\n",
            "105/105 [==============================] - 0s 194us/step - loss: 0.2291 - acc: 0.9048\n"
          ],
          "name": "stdout"
        },
        {
          "output_type": "execute_result",
          "data": {
            "text/plain": [
              "<keras.callbacks.History at 0x7f8df75e1d30>"
            ]
          },
          "metadata": {
            "tags": []
          },
          "execution_count": 15
        }
      ]
    },
    {
      "cell_type": "code",
      "metadata": {
        "id": "Q5LjdqvPjThF",
        "colab_type": "code",
        "colab": {
          "base_uri": "https://localhost:8080/",
          "height": 51
        },
        "outputId": "0c96d203-9a63-41a9-ef21-7c7e4d0bcd3f"
      },
      "source": [
        "#evaluating the model\n",
        "score = model.evaluate(x_test,y_test, verbose=0)\n",
        " print('Test loss:', score[0])\n",
        " print('Test accuracy:', score[1])"
      ],
      "execution_count": 16,
      "outputs": [
        {
          "output_type": "stream",
          "text": [
            "Test loss: 0.3439306878381305\n",
            "Test accuracy: 0.8000000013245476\n"
          ],
          "name": "stdout"
        }
      ]
    },
    {
      "cell_type": "code",
      "metadata": {
        "id": "x_pAG7IFnnqv",
        "colab_type": "code",
        "colab": {}
      },
      "source": [
        ""
      ],
      "execution_count": 0,
      "outputs": []
    }
  ]
}